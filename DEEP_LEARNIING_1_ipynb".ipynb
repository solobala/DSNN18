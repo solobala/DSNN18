{
  "nbformat": 4,
  "nbformat_minor": 0,
  "metadata": {
    "colab": {
      "provenance": [],
      "include_colab_link": true
    },
    "kernelspec": {
      "display_name": "Python 3",
      "language": "python",
      "name": "python3"
    },
    "language_info": {
      "codemirror_mode": {
        "name": "ipython",
        "version": 3
      },
      "file_extension": ".py",
      "mimetype": "text/x-python",
      "name": "python",
      "nbconvert_exporter": "python",
      "pygments_lexer": "ipython3",
      "version": "3.7.0"
    },
    "accelerator": "GPU",
    "gpuClass": "standard"
  },
  "cells": [
    {
      "cell_type": "markdown",
      "metadata": {
        "id": "view-in-github",
        "colab_type": "text"
      },
      "source": [
        "<a href=\"https://colab.research.google.com/github/solobala/DSNN18/blob/main/DEEP_LEARNIING_1_ipynb%22.ipynb\" target=\"_parent\"><img src=\"https://colab.research.google.com/assets/colab-badge.svg\" alt=\"Open In Colab\"/></a>"
      ]
    },
    {
      "cell_type": "markdown",
      "metadata": {
        "id": "28UkISS77u1Y"
      },
      "source": [
        "# Imbalanced classification: credit card fraud detection"
      ]
    },
    {
      "cell_type": "markdown",
      "metadata": {
        "id": "hDqLJbK47u1e"
      },
      "source": [
        "## Introduction\n",
        "\n",
        "This example looks at the\n",
        "[Kaggle Credit Card Fraud Detection](https://www.kaggle.com/mlg-ulb/creditcardfraud/)\n",
        "dataset to demonstrate how\n",
        "to train a classification model on data with highly imbalanced classes."
      ]
    },
    {
      "cell_type": "markdown",
      "metadata": {
        "id": "gvmBj4H57u1f"
      },
      "source": [
        "## First, vectorize the CSV data"
      ]
    },
    {
      "cell_type": "code",
      "metadata": {
        "id": "zMtluoDZIVXc",
        "colab": {
          "base_uri": "https://localhost:8080/"
        },
        "outputId": "3d6c0502-4e27-4305-f06a-708a164db90b"
      },
      "source": [
        "!wget https://www.dropbox.com/s/9vfy1vi6wsfkxyk/creditcard.csv.zip"
      ],
      "execution_count": null,
      "outputs": [
        {
          "output_type": "stream",
          "name": "stdout",
          "text": [
            "--2023-05-29 17:49:45--  https://www.dropbox.com/s/9vfy1vi6wsfkxyk/creditcard.csv.zip\n",
            "Resolving www.dropbox.com (www.dropbox.com)... 162.125.1.18, 2620:100:6016:18::a27d:112\n",
            "Connecting to www.dropbox.com (www.dropbox.com)|162.125.1.18|:443... connected.\n",
            "HTTP request sent, awaiting response... 302 Found\n",
            "Location: /s/raw/9vfy1vi6wsfkxyk/creditcard.csv.zip [following]\n",
            "--2023-05-29 17:49:45--  https://www.dropbox.com/s/raw/9vfy1vi6wsfkxyk/creditcard.csv.zip\n",
            "Reusing existing connection to www.dropbox.com:443.\n",
            "HTTP request sent, awaiting response... 302 Found\n",
            "Location: https://uc6b85d34e7214c821674bc21867.dl.dropboxusercontent.com/cd/0/inline/B8-W1IRhu7Pix_q_t2zIaTJrt5I1ZId8W0hprQ5D_70apyyqSITRD7bI_YlLm38BzEHqpNtGi0DAOskJuj2py80-7kzdjj5m06jaM7llHePGsZd0hufDWG9p-0jqHaoCFIp1AVyiWeqhwxghHnhmNNXZTvK23SKw6WHAqoGs2oVRbA/file# [following]\n",
            "--2023-05-29 17:49:46--  https://uc6b85d34e7214c821674bc21867.dl.dropboxusercontent.com/cd/0/inline/B8-W1IRhu7Pix_q_t2zIaTJrt5I1ZId8W0hprQ5D_70apyyqSITRD7bI_YlLm38BzEHqpNtGi0DAOskJuj2py80-7kzdjj5m06jaM7llHePGsZd0hufDWG9p-0jqHaoCFIp1AVyiWeqhwxghHnhmNNXZTvK23SKw6WHAqoGs2oVRbA/file\n",
            "Resolving uc6b85d34e7214c821674bc21867.dl.dropboxusercontent.com (uc6b85d34e7214c821674bc21867.dl.dropboxusercontent.com)... 162.125.1.15, 2620:100:6016:15::a27d:10f\n",
            "Connecting to uc6b85d34e7214c821674bc21867.dl.dropboxusercontent.com (uc6b85d34e7214c821674bc21867.dl.dropboxusercontent.com)|162.125.1.15|:443... connected.\n",
            "HTTP request sent, awaiting response... 302 Found\n",
            "Location: /cd/0/inline2/B8_aSEAzDH27gHO88XZWXqtjrH4ER3HP1wfqx57CXU91DGoq6Yjuts3CRHHla_cF9ho7u84weBH-mq5J3wotZMAsuoWqKwY-NUNA3rktHCnl_cxmlYpm0aOyE_Y1YPeSK_SzNj7akE6aPg5BsIia4tfwjPuSyKudcTJT4-PzqBQ5xLhOaxCE1vnjYY2Resyc1YiW3na0rqr6bCz01PgZ3VENgqC9Jl37gtfYT8WDqgW7e2_Ggohg-EsuuckhlQzt-2c-crH7Os1J9Dhi5bMpR1aCxFVy8ziQ5LvG3WEf6VWUR2CtDp0_-2-sEfE-6SEC4ZUFjbL6n8_2Fqr-XTw6wnCj-CH5SAobm3NsjSwt98o0caPx5t35xhY10cIKEYkgwSyyp57xbMekdZDrgqqmvCkW-4mMARHoaDHtBFUc-EIeug/file [following]\n",
            "--2023-05-29 17:49:46--  https://uc6b85d34e7214c821674bc21867.dl.dropboxusercontent.com/cd/0/inline2/B8_aSEAzDH27gHO88XZWXqtjrH4ER3HP1wfqx57CXU91DGoq6Yjuts3CRHHla_cF9ho7u84weBH-mq5J3wotZMAsuoWqKwY-NUNA3rktHCnl_cxmlYpm0aOyE_Y1YPeSK_SzNj7akE6aPg5BsIia4tfwjPuSyKudcTJT4-PzqBQ5xLhOaxCE1vnjYY2Resyc1YiW3na0rqr6bCz01PgZ3VENgqC9Jl37gtfYT8WDqgW7e2_Ggohg-EsuuckhlQzt-2c-crH7Os1J9Dhi5bMpR1aCxFVy8ziQ5LvG3WEf6VWUR2CtDp0_-2-sEfE-6SEC4ZUFjbL6n8_2Fqr-XTw6wnCj-CH5SAobm3NsjSwt98o0caPx5t35xhY10cIKEYkgwSyyp57xbMekdZDrgqqmvCkW-4mMARHoaDHtBFUc-EIeug/file\n",
            "Reusing existing connection to uc6b85d34e7214c821674bc21867.dl.dropboxusercontent.com:443.\n",
            "HTTP request sent, awaiting response... 200 OK\n",
            "Length: 69155672 (66M) [application/zip]\n",
            "Saving to: ‘creditcard.csv.zip’\n",
            "\n",
            "creditcard.csv.zip  100%[===================>]  65.95M   238MB/s    in 0.3s    \n",
            "\n",
            "2023-05-29 17:49:47 (238 MB/s) - ‘creditcard.csv.zip’ saved [69155672/69155672]\n",
            "\n"
          ]
        }
      ]
    },
    {
      "cell_type": "code",
      "metadata": {
        "id": "DEOTDjm3IZTE",
        "colab": {
          "base_uri": "https://localhost:8080/"
        },
        "outputId": "34f405f3-a2d8-4131-f8d1-c942dd5fa1f2"
      },
      "source": [
        "!unzip creditcard.csv.zip"
      ],
      "execution_count": null,
      "outputs": [
        {
          "output_type": "stream",
          "name": "stdout",
          "text": [
            "Archive:  creditcard.csv.zip\n",
            "  inflating: creditcard.csv          \n"
          ]
        }
      ]
    },
    {
      "cell_type": "code",
      "metadata": {
        "id": "3MEGFeBC7u1f",
        "colab": {
          "base_uri": "https://localhost:8080/"
        },
        "outputId": "4fad6da3-c819-4c24-a18c-e09e19adb7ce"
      },
      "source": [
        "import csv\n",
        "import numpy as np\n",
        "\n",
        "# Get the real data from https://www.kaggle.com/mlg-ulb/creditcardfraud/\n",
        "fname = \"creditcard.csv\"\n",
        "# Убираем \" из датасета\n",
        "all_features = []\n",
        "all_targets = []\n",
        "with open(fname) as f:\n",
        "    for i, line in enumerate(f):\n",
        "        if i == 0:\n",
        "            print(\"HEADER:\", line.strip())\n",
        "            continue  # Skip header\n",
        "        fields = line.strip().split(\",\")\n",
        "        all_features.append([float(v.replace('\"', \"\")) for v in fields[:-1]])\n",
        "        all_targets.append([int(fields[-1].replace('\"', \"\"))])\n",
        "        if i == 1:\n",
        "            print(\"EXAMPLE FEATURES:\", all_features[-1])\n",
        "\n",
        "features = np.array(all_features, dtype=\"float32\") # перевели в numpy\n",
        "targets = np.array(all_targets, dtype=\"uint8\") # перевели в numpy\n",
        "print(\"features.shape:\", features.shape)\n",
        "print(\"targets.shape:\", targets.shape)\n"
      ],
      "execution_count": null,
      "outputs": [
        {
          "output_type": "stream",
          "name": "stdout",
          "text": [
            "HEADER: \"Time\",\"V1\",\"V2\",\"V3\",\"V4\",\"V5\",\"V6\",\"V7\",\"V8\",\"V9\",\"V10\",\"V11\",\"V12\",\"V13\",\"V14\",\"V15\",\"V16\",\"V17\",\"V18\",\"V19\",\"V20\",\"V21\",\"V22\",\"V23\",\"V24\",\"V25\",\"V26\",\"V27\",\"V28\",\"Amount\",\"Class\"\n",
            "EXAMPLE FEATURES: [0.0, -1.3598071336738, -0.0727811733098497, 2.53634673796914, 1.37815522427443, -0.338320769942518, 0.462387777762292, 0.239598554061257, 0.0986979012610507, 0.363786969611213, 0.0907941719789316, -0.551599533260813, -0.617800855762348, -0.991389847235408, -0.311169353699879, 1.46817697209427, -0.470400525259478, 0.207971241929242, 0.0257905801985591, 0.403992960255733, 0.251412098239705, -0.018306777944153, 0.277837575558899, -0.110473910188767, 0.0669280749146731, 0.128539358273528, -0.189114843888824, 0.133558376740387, -0.0210530534538215, 149.62]\n",
            "features.shape: (284807, 30)\n",
            "targets.shape: (284807, 1)\n"
          ]
        }
      ]
    },
    {
      "cell_type": "markdown",
      "metadata": {
        "id": "IpiTu_U37u1g"
      },
      "source": [
        "## Prepare a validation set"
      ]
    },
    {
      "cell_type": "code",
      "metadata": {
        "id": "GscjzN_X7u1h",
        "colab": {
          "base_uri": "https://localhost:8080/"
        },
        "outputId": "e25e2a7d-b03f-40f1-95b2-0a12fc0e122a"
      },
      "source": [
        "# Интересно, почему не используем train_test_split()? ведь нужно разбивать так, чтобы оба класса попадали в нужной пропорции?\n",
        "num_val_samples = int(len(features) * 0.2)\n",
        "train_features = features[:-num_val_samples]\n",
        "train_targets = targets[:-num_val_samples]\n",
        "val_features = features[-num_val_samples:]\n",
        "val_targets = targets[-num_val_samples:]\n",
        "\n",
        "print(\"Number of training samples:\", len(train_features))\n",
        "print(\"Number of validation samples:\", len(val_features))\n"
      ],
      "execution_count": null,
      "outputs": [
        {
          "output_type": "stream",
          "name": "stdout",
          "text": [
            "Number of training samples: 227846\n",
            "Number of validation samples: 56961\n"
          ]
        }
      ]
    },
    {
      "cell_type": "markdown",
      "metadata": {
        "id": "hr2UHtRF7u1h"
      },
      "source": [
        "## Analyze class imbalance in the targets"
      ]
    },
    {
      "cell_type": "code",
      "metadata": {
        "id": "bA501v367u1h",
        "colab": {
          "base_uri": "https://localhost:8080/"
        },
        "outputId": "619a64f7-437e-4b2f-8159-90aa38f28e30"
      },
      "source": [
        "counts = np.bincount(train_targets[:, 0]) # почему  bincount, что за фугкция\n",
        "# возвращает список из 2 переменных -число 0 и число 1\n",
        "# считаем веса, чтобы использовать при пострении модели\n",
        "print(\n",
        "    \"Number of positive samples in training data: {} ({:.2f}% of total)\".format(\n",
        "        counts[1], 100 * float(counts[1]) / len(train_targets)\n",
        "    )\n",
        ")\n",
        "\n",
        "weight_for_0 = 1.0 / counts[0]\n",
        "weight_for_1 = 1.0 / counts[1]\n"
      ],
      "execution_count": null,
      "outputs": [
        {
          "output_type": "stream",
          "name": "stdout",
          "text": [
            "Number of positive samples in training data: 417 (0.18% of total)\n"
          ]
        }
      ]
    },
    {
      "cell_type": "code",
      "source": [
        "print(weight_for_0,weight_for_1)"
      ],
      "metadata": {
        "colab": {
          "base_uri": "https://localhost:8080/"
        },
        "id": "cf-3FEmSsH7_",
        "outputId": "1bcf51cf-e497-4536-cf07-3d657328b7eb"
      },
      "execution_count": null,
      "outputs": [
        {
          "output_type": "stream",
          "name": "stdout",
          "text": [
            "4.396976638863118e-06 0.002398081534772182\n"
          ]
        }
      ]
    },
    {
      "cell_type": "markdown",
      "metadata": {
        "id": "1BjXTqzs7u1h"
      },
      "source": [
        "## Normalize the data using training set statistics"
      ]
    },
    {
      "cell_type": "code",
      "metadata": {
        "id": "LU9mk2Dk7u1i"
      },
      "source": [
        "# Нормализация очень важна в случае нейросетей\n",
        "#отнимаем среднее и делим на станд. отклонение\n",
        "mean = np.mean(train_features, axis=0)\n",
        "train_features -= mean\n",
        "val_features -= mean\n",
        "\n",
        "std = np.std(train_features, axis=0)\n",
        "train_features /= std\n",
        "val_features /= std"
      ],
      "execution_count": null,
      "outputs": []
    },
    {
      "cell_type": "markdown",
      "metadata": {
        "id": "QZbr3bsl7u1i"
      },
      "source": [
        "## Build a binary classification model"
      ]
    },
    {
      "cell_type": "code",
      "metadata": {
        "id": "1jgMgQLL7u1i",
        "colab": {
          "base_uri": "https://localhost:8080/"
        },
        "outputId": "b4b246cf-de4a-4f72-a4b6-9154e5d04e0d"
      },
      "source": [
        "from tensorflow import keras\n",
        "\n",
        "hid_size = 256 # что это? число нейронов в скрытом слоев\n",
        "model = keras.Sequential(\n",
        "    [\n",
        "        keras.layers.Dense(\n",
        "            hid_size, activation=\"relu\", input_shape=(train_features.shape[-1],)\n",
        "        ), # fully-connected y^1\n",
        "     # что возвращает shape[-1]? То же, что shape[1] в двумерном случае\n",
        "        keras.layers.Dense(hid_size, activation=\"relu\"), # y^2\n",
        "        keras.layers.Dropout(0.3), # слой помогает бороться с переобучеием\n",
        "        keras.layers.Dense(hid_size, activation=\"relu\"), # y^3\n",
        "        keras.layers.Dropout(0.3),\n",
        "        keras.layers.Dense(1, activation=\"sigmoid\"), # y^4\n",
        "    ]\n",
        ")\n",
        "model.summary()\n",
        "\n",
        "# x_1 = x_2 \n",
        "# w_1 w_2\n",
        "# w_1 = -w_2\n",
        "\n",
        "# w_1 * x_1 + w_2 * x_2 = 0"
      ],
      "execution_count": null,
      "outputs": [
        {
          "output_type": "stream",
          "name": "stdout",
          "text": [
            "Model: \"sequential\"\n",
            "_________________________________________________________________\n",
            " Layer (type)                Output Shape              Param #   \n",
            "=================================================================\n",
            " dense (Dense)               (None, 256)               7936      \n",
            "                                                                 \n",
            " dense_1 (Dense)             (None, 256)               65792     \n",
            "                                                                 \n",
            " dropout (Dropout)           (None, 256)               0         \n",
            "                                                                 \n",
            " dense_2 (Dense)             (None, 256)               65792     \n",
            "                                                                 \n",
            " dropout_1 (Dropout)         (None, 256)               0         \n",
            "                                                                 \n",
            " dense_3 (Dense)             (None, 1)                 257       \n",
            "                                                                 \n",
            "=================================================================\n",
            "Total params: 139,777\n",
            "Trainable params: 139,777\n",
            "Non-trainable params: 0\n",
            "_________________________________________________________________\n"
          ]
        }
      ]
    },
    {
      "cell_type": "markdown",
      "metadata": {
        "id": "nKJF0uxs7u1j"
      },
      "source": [
        "## Train the model with `class_weight` argument"
      ]
    },
    {
      "cell_type": "code",
      "metadata": {
        "id": "47TFfEAQ7u1j",
        "colab": {
          "base_uri": "https://localhost:8080/"
        },
        "outputId": "94734af3-90e9-4803-9daa-76f02133a206"
      },
      "source": [
        "metrics = [\n",
        "    keras.metrics.FalseNegatives(name=\"fn\"),\n",
        "    keras.metrics.FalsePositives(name=\"fp\"),\n",
        "    keras.metrics.TrueNegatives(name=\"tn\"),\n",
        "    keras.metrics.TruePositives(name=\"tp\"),\n",
        "    keras.metrics.Precision(name=\"precision\"),\n",
        "    keras.metrics.Recall(name=\"recall\"),\n",
        "]\n",
        "\n",
        "model.compile(\n",
        "    optimizer=keras.optimizers.Adam(1e-2), loss=\"binary_crossentropy\", metrics=metrics\n",
        ")\n",
        "# Это ф-ии, котоые сохраняют чекпойнты обучения\n",
        "callbacks = [keras.callbacks.ModelCheckpoint(\"fraud_model_at_epoch_{epoch}.h5\")]\n",
        "class_weight = {0: weight_for_0, 1: weight_for_1}\n",
        "\n",
        "model.fit(\n",
        "    train_features,\n",
        "    train_targets,\n",
        "    batch_size=2048, #  размер батча для метода оптимизации\n",
        "    epochs=30, # 1 эпоха - просмотр всех записей трейна по разу\n",
        "    verbose=2,\n",
        "    callbacks=callbacks,\n",
        "    validation_data=(val_features, val_targets), # это тестовая выборки\n",
        "    class_weight=class_weight,\n",
        ")\n"
      ],
      "execution_count": null,
      "outputs": [
        {
          "output_type": "stream",
          "name": "stdout",
          "text": [
            "Epoch 1/30\n",
            "112/112 - 3s - loss: 4.3079e-07 - fn: 4.0000 - fp: 3281.0000 - tn: 224148.0000 - tp: 413.0000 - precision: 0.1118 - recall: 0.9904 - val_loss: 0.0134 - val_fn: 11.0000 - val_fp: 291.0000 - val_tn: 56595.0000 - val_tp: 64.0000 - val_precision: 0.1803 - val_recall: 0.8533 - 3s/epoch - 24ms/step\n",
            "Epoch 2/30\n",
            "112/112 - 1s - loss: 4.8734e-07 - fn: 2.0000 - fp: 2347.0000 - tn: 225082.0000 - tp: 415.0000 - precision: 0.1503 - recall: 0.9952 - val_loss: 0.0408 - val_fn: 10.0000 - val_fp: 409.0000 - val_tn: 56477.0000 - val_tp: 65.0000 - val_precision: 0.1371 - val_recall: 0.8667 - 685ms/epoch - 6ms/step\n",
            "Epoch 3/30\n",
            "112/112 - 1s - loss: 3.0907e-07 - fn: 1.0000 - fp: 2434.0000 - tn: 224995.0000 - tp: 416.0000 - precision: 0.1460 - recall: 0.9976 - val_loss: 0.0185 - val_fn: 12.0000 - val_fp: 196.0000 - val_tn: 56690.0000 - val_tp: 63.0000 - val_precision: 0.2432 - val_recall: 0.8400 - 816ms/epoch - 7ms/step\n",
            "Epoch 4/30\n",
            "112/112 - 1s - loss: 2.4138e-07 - fn: 2.0000 - fp: 1711.0000 - tn: 225718.0000 - tp: 415.0000 - precision: 0.1952 - recall: 0.9952 - val_loss: 0.0223 - val_fn: 11.0000 - val_fp: 339.0000 - val_tn: 56547.0000 - val_tp: 64.0000 - val_precision: 0.1588 - val_recall: 0.8533 - 800ms/epoch - 7ms/step\n",
            "Epoch 5/30\n",
            "112/112 - 1s - loss: 2.4481e-07 - fn: 3.0000 - fp: 2029.0000 - tn: 225400.0000 - tp: 414.0000 - precision: 0.1695 - recall: 0.9928 - val_loss: 0.0138 - val_fn: 11.0000 - val_fp: 232.0000 - val_tn: 56654.0000 - val_tp: 64.0000 - val_precision: 0.2162 - val_recall: 0.8533 - 676ms/epoch - 6ms/step\n",
            "Epoch 6/30\n",
            "112/112 - 1s - loss: 3.4521e-07 - fn: 3.0000 - fp: 1850.0000 - tn: 225579.0000 - tp: 414.0000 - precision: 0.1829 - recall: 0.9928 - val_loss: 0.0184 - val_fn: 12.0000 - val_fp: 275.0000 - val_tn: 56611.0000 - val_tp: 63.0000 - val_precision: 0.1864 - val_recall: 0.8400 - 652ms/epoch - 6ms/step\n",
            "Epoch 7/30\n",
            "112/112 - 1s - loss: 1.9860e-07 - fn: 0.0000e+00 - fp: 2178.0000 - tn: 225251.0000 - tp: 417.0000 - precision: 0.1607 - recall: 1.0000 - val_loss: 0.0115 - val_fn: 11.0000 - val_fp: 170.0000 - val_tn: 56716.0000 - val_tp: 64.0000 - val_precision: 0.2735 - val_recall: 0.8533 - 614ms/epoch - 5ms/step\n",
            "Epoch 8/30\n",
            "112/112 - 1s - loss: 7.4404e-07 - fn: 4.0000 - fp: 5168.0000 - tn: 222261.0000 - tp: 413.0000 - precision: 0.0740 - recall: 0.9904 - val_loss: 0.0794 - val_fn: 9.0000 - val_fp: 1235.0000 - val_tn: 55651.0000 - val_tp: 66.0000 - val_precision: 0.0507 - val_recall: 0.8800 - 637ms/epoch - 6ms/step\n",
            "Epoch 9/30\n",
            "112/112 - 1s - loss: 6.6790e-07 - fn: 6.0000 - fp: 4778.0000 - tn: 222651.0000 - tp: 411.0000 - precision: 0.0792 - recall: 0.9856 - val_loss: 0.0451 - val_fn: 9.0000 - val_fp: 799.0000 - val_tn: 56087.0000 - val_tp: 66.0000 - val_precision: 0.0763 - val_recall: 0.8800 - 553ms/epoch - 5ms/step\n",
            "Epoch 10/30\n",
            "112/112 - 1s - loss: 4.6789e-07 - fn: 2.0000 - fp: 4358.0000 - tn: 223071.0000 - tp: 415.0000 - precision: 0.0869 - recall: 0.9952 - val_loss: 0.0731 - val_fn: 10.0000 - val_fp: 1697.0000 - val_tn: 55189.0000 - val_tp: 65.0000 - val_precision: 0.0369 - val_recall: 0.8667 - 630ms/epoch - 6ms/step\n",
            "Epoch 11/30\n",
            "112/112 - 1s - loss: 4.3829e-07 - fn: 4.0000 - fp: 3412.0000 - tn: 224017.0000 - tp: 413.0000 - precision: 0.1080 - recall: 0.9904 - val_loss: 0.0221 - val_fn: 10.0000 - val_fp: 400.0000 - val_tn: 56486.0000 - val_tp: 65.0000 - val_precision: 0.1398 - val_recall: 0.8667 - 573ms/epoch - 5ms/step\n",
            "Epoch 12/30\n",
            "112/112 - 1s - loss: 2.3228e-07 - fn: 0.0000e+00 - fp: 1702.0000 - tn: 225727.0000 - tp: 417.0000 - precision: 0.1968 - recall: 1.0000 - val_loss: 0.0111 - val_fn: 12.0000 - val_fp: 171.0000 - val_tn: 56715.0000 - val_tp: 63.0000 - val_precision: 0.2692 - val_recall: 0.8400 - 630ms/epoch - 6ms/step\n",
            "Epoch 13/30\n",
            "112/112 - 1s - loss: 2.4298e-07 - fn: 1.0000 - fp: 1542.0000 - tn: 225887.0000 - tp: 416.0000 - precision: 0.2125 - recall: 0.9976 - val_loss: 0.0148 - val_fn: 12.0000 - val_fp: 203.0000 - val_tn: 56683.0000 - val_tp: 63.0000 - val_precision: 0.2368 - val_recall: 0.8400 - 557ms/epoch - 5ms/step\n",
            "Epoch 14/30\n",
            "112/112 - 1s - loss: 6.7305e-07 - fn: 5.0000 - fp: 2442.0000 - tn: 224987.0000 - tp: 412.0000 - precision: 0.1444 - recall: 0.9880 - val_loss: 0.0790 - val_fn: 9.0000 - val_fp: 490.0000 - val_tn: 56396.0000 - val_tp: 66.0000 - val_precision: 0.1187 - val_recall: 0.8800 - 568ms/epoch - 5ms/step\n",
            "Epoch 15/30\n",
            "112/112 - 1s - loss: 9.8053e-07 - fn: 5.0000 - fp: 3867.0000 - tn: 223562.0000 - tp: 412.0000 - precision: 0.0963 - recall: 0.9880 - val_loss: 0.1687 - val_fn: 10.0000 - val_fp: 1553.0000 - val_tn: 55333.0000 - val_tp: 65.0000 - val_precision: 0.0402 - val_recall: 0.8667 - 562ms/epoch - 5ms/step\n",
            "Epoch 16/30\n",
            "112/112 - 1s - loss: 1.8114e-06 - fn: 4.0000 - fp: 4368.0000 - tn: 223061.0000 - tp: 413.0000 - precision: 0.0864 - recall: 0.9904 - val_loss: 0.0485 - val_fn: 9.0000 - val_fp: 782.0000 - val_tn: 56104.0000 - val_tp: 66.0000 - val_precision: 0.0778 - val_recall: 0.8800 - 568ms/epoch - 5ms/step\n",
            "Epoch 17/30\n",
            "112/112 - 1s - loss: 7.4578e-07 - fn: 7.0000 - fp: 3587.0000 - tn: 223842.0000 - tp: 410.0000 - precision: 0.1026 - recall: 0.9832 - val_loss: 0.0286 - val_fn: 11.0000 - val_fp: 273.0000 - val_tn: 56613.0000 - val_tp: 64.0000 - val_precision: 0.1899 - val_recall: 0.8533 - 635ms/epoch - 6ms/step\n",
            "Epoch 18/30\n",
            "112/112 - 1s - loss: 5.8863e-07 - fn: 5.0000 - fp: 3455.0000 - tn: 223974.0000 - tp: 412.0000 - precision: 0.1065 - recall: 0.9880 - val_loss: 0.0320 - val_fn: 8.0000 - val_fp: 533.0000 - val_tn: 56353.0000 - val_tp: 67.0000 - val_precision: 0.1117 - val_recall: 0.8933 - 547ms/epoch - 5ms/step\n",
            "Epoch 19/30\n",
            "112/112 - 1s - loss: 5.8061e-07 - fn: 5.0000 - fp: 2836.0000 - tn: 224593.0000 - tp: 412.0000 - precision: 0.1268 - recall: 0.9880 - val_loss: 0.0183 - val_fn: 13.0000 - val_fp: 164.0000 - val_tn: 56722.0000 - val_tp: 62.0000 - val_precision: 0.2743 - val_recall: 0.8267 - 564ms/epoch - 5ms/step\n",
            "Epoch 20/30\n",
            "112/112 - 1s - loss: 3.3834e-07 - fn: 2.0000 - fp: 2308.0000 - tn: 225121.0000 - tp: 415.0000 - precision: 0.1524 - recall: 0.9952 - val_loss: 0.0200 - val_fn: 10.0000 - val_fp: 258.0000 - val_tn: 56628.0000 - val_tp: 65.0000 - val_precision: 0.2012 - val_recall: 0.8667 - 553ms/epoch - 5ms/step\n",
            "Epoch 21/30\n",
            "112/112 - 1s - loss: 2.3064e-07 - fn: 3.0000 - fp: 1908.0000 - tn: 225521.0000 - tp: 414.0000 - precision: 0.1783 - recall: 0.9928 - val_loss: 0.0270 - val_fn: 8.0000 - val_fp: 535.0000 - val_tn: 56351.0000 - val_tp: 67.0000 - val_precision: 0.1113 - val_recall: 0.8933 - 603ms/epoch - 5ms/step\n",
            "Epoch 22/30\n",
            "112/112 - 1s - loss: 7.5408e-07 - fn: 3.0000 - fp: 2239.0000 - tn: 225190.0000 - tp: 414.0000 - precision: 0.1560 - recall: 0.9928 - val_loss: 0.0110 - val_fn: 12.0000 - val_fp: 183.0000 - val_tn: 56703.0000 - val_tp: 63.0000 - val_precision: 0.2561 - val_recall: 0.8400 - 789ms/epoch - 7ms/step\n",
            "Epoch 23/30\n",
            "112/112 - 1s - loss: 3.3575e-07 - fn: 2.0000 - fp: 1964.0000 - tn: 225465.0000 - tp: 415.0000 - precision: 0.1744 - recall: 0.9952 - val_loss: 0.0417 - val_fn: 10.0000 - val_fp: 285.0000 - val_tn: 56601.0000 - val_tp: 65.0000 - val_precision: 0.1857 - val_recall: 0.8667 - 1s/epoch - 10ms/step\n",
            "Epoch 24/30\n",
            "112/112 - 1s - loss: 2.7211e-07 - fn: 2.0000 - fp: 1625.0000 - tn: 225804.0000 - tp: 415.0000 - precision: 0.2034 - recall: 0.9952 - val_loss: 0.0128 - val_fn: 11.0000 - val_fp: 119.0000 - val_tn: 56767.0000 - val_tp: 64.0000 - val_precision: 0.3497 - val_recall: 0.8533 - 613ms/epoch - 5ms/step\n",
            "Epoch 25/30\n",
            "112/112 - 1s - loss: 1.4831e-07 - fn: 0.0000e+00 - fp: 1177.0000 - tn: 226252.0000 - tp: 417.0000 - precision: 0.2616 - recall: 1.0000 - val_loss: 0.0193 - val_fn: 10.0000 - val_fp: 246.0000 - val_tn: 56640.0000 - val_tp: 65.0000 - val_precision: 0.2090 - val_recall: 0.8667 - 547ms/epoch - 5ms/step\n",
            "Epoch 26/30\n",
            "112/112 - 1s - loss: 1.3816e-07 - fn: 1.0000 - fp: 1072.0000 - tn: 226357.0000 - tp: 416.0000 - precision: 0.2796 - recall: 0.9976 - val_loss: 0.0628 - val_fn: 7.0000 - val_fp: 1212.0000 - val_tn: 55674.0000 - val_tp: 68.0000 - val_precision: 0.0531 - val_recall: 0.9067 - 551ms/epoch - 5ms/step\n",
            "Epoch 27/30\n",
            "112/112 - 1s - loss: 1.3280e-07 - fn: 1.0000 - fp: 1551.0000 - tn: 225878.0000 - tp: 416.0000 - precision: 0.2115 - recall: 0.9976 - val_loss: 0.0103 - val_fn: 11.0000 - val_fp: 181.0000 - val_tn: 56705.0000 - val_tp: 64.0000 - val_precision: 0.2612 - val_recall: 0.8533 - 553ms/epoch - 5ms/step\n",
            "Epoch 28/30\n",
            "112/112 - 1s - loss: 1.2013e-07 - fn: 0.0000e+00 - fp: 1254.0000 - tn: 226175.0000 - tp: 417.0000 - precision: 0.2496 - recall: 1.0000 - val_loss: 0.0333 - val_fn: 9.0000 - val_fp: 616.0000 - val_tn: 56270.0000 - val_tp: 66.0000 - val_precision: 0.0968 - val_recall: 0.8800 - 623ms/epoch - 6ms/step\n",
            "Epoch 29/30\n",
            "112/112 - 1s - loss: 1.1148e-07 - fn: 0.0000e+00 - fp: 1290.0000 - tn: 226139.0000 - tp: 417.0000 - precision: 0.2443 - recall: 1.0000 - val_loss: 0.0079 - val_fn: 13.0000 - val_fp: 94.0000 - val_tn: 56792.0000 - val_tp: 62.0000 - val_precision: 0.3974 - val_recall: 0.8267 - 619ms/epoch - 6ms/step\n",
            "Epoch 30/30\n",
            "112/112 - 1s - loss: 3.2783e-07 - fn: 2.0000 - fp: 1913.0000 - tn: 225516.0000 - tp: 415.0000 - precision: 0.1783 - recall: 0.9952 - val_loss: 0.0114 - val_fn: 10.0000 - val_fp: 173.0000 - val_tn: 56713.0000 - val_tp: 65.0000 - val_precision: 0.2731 - val_recall: 0.8667 - 554ms/epoch - 5ms/step\n"
          ]
        },
        {
          "output_type": "execute_result",
          "data": {
            "text/plain": [
              "<keras.callbacks.History at 0x7f80d0108760>"
            ]
          },
          "metadata": {},
          "execution_count": 10
        }
      ]
    },
    {
      "cell_type": "markdown",
      "source": [],
      "metadata": {
        "id": "b1OFD5qUuKMC"
      }
    },
    {
      "cell_type": "code",
      "metadata": {
        "id": "5H6kSubzVpzA"
      },
      "source": [
        "#    P(1)   N(0)\n",
        "# T\n",
        "# F"
      ],
      "execution_count": null,
      "outputs": []
    },
    {
      "cell_type": "code",
      "metadata": {
        "id": "UOiK9jgiT0Ho"
      },
      "source": [
        "# n_samples ~ 300000\n",
        "# batch_size ~ 3000\n",
        "# n_steps ~ 100\n",
        "# n_epochs ~ 1"
      ],
      "execution_count": null,
      "outputs": []
    },
    {
      "cell_type": "code",
      "metadata": {
        "id": "3v2KoZ_RUs5j"
      },
      "source": [],
      "execution_count": null,
      "outputs": []
    },
    {
      "cell_type": "markdown",
      "metadata": {
        "id": "i9UDuY9I7u1j"
      },
      "source": [
        "## Conclusions\n",
        "\n",
        "At the end of training, out of 56,961 validation transactions, we are:\n",
        "\n",
        "- Correctly identifying 66 of them as fraudulent\n",
        "- Missing 9 fraudulent transactions\n",
        "- At the cost of incorrectly flagging 441 legitimate transactions\n",
        "\n",
        "In the real world, one would put an even higher weight on class 1,\n",
        "so as to reflect that False Negatives are more costly than False Positives.\n",
        "\n",
        "Next time your credit card gets  declined in an online purchase -- this is why."
      ]
    }
  ]
}